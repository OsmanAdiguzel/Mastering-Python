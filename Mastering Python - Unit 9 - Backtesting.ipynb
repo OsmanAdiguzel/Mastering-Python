{
 "cells": [
  {
   "cell_type": "markdown",
   "metadata": {},
   "source": [
    "# Backtesting"
   ]
  },
  {
   "cell_type": "markdown",
   "metadata": {},
   "source": [
    "### The TickData class"
   ]
  },
  {
   "cell_type": "code",
   "execution_count": null,
   "metadata": {},
   "outputs": [],
   "source": [
    "\"\"\" Store a single unit of data \"\"\"\n",
    "class TickData:\n",
    "    def __init__(self, symbol, timestamp, last_price=0, total_volume=0):\n",
    "        self.symbol = symbol \n",
    "        self.timestamp = timestamp \n",
    "        self.open_price = 0 \n",
    "        self.last_price = last_price \n",
    "        self.total_volume = total_volume"
   ]
  },
  {
   "cell_type": "markdown",
   "metadata": {},
   "source": [
    "### The MarketData class"
   ]
  },
  {
   "cell_type": "code",
   "execution_count": null,
   "metadata": {},
   "outputs": [],
   "source": [
    "class MarketData:\n",
    "    def __init__(self):\n",
    "        self.__recent_ticks__ = dict()\n",
    "        \n",
    "    def add_last_price(self, time, symbol, price, volume): \n",
    "        tick_data = TickData(symbol, time, price, volume) \n",
    "        self.__recent_ticks__[symbol] = tick_data\n",
    "        \n",
    "    def add_open_price(self, time, symbol, price):\n",
    "        tick_data = self.get_existing_tick_data(symbol, time) \n",
    "        tick_data.open_price = price\n",
    "        \n",
    "    def get_existing_tick_data(self, symbol, time): \n",
    "        if not symbol in self.__recent_ticks__:\n",
    "            tick_data = TickData(symbol, time) \n",
    "            self.__recent_ticks__[symbol] = tick_data\n",
    "        return self.__recent_ticks__[symbol]\n",
    "    \n",
    "    def get_last_price(self, symbol):\n",
    "        return self.__recent_ticks__[symbol].last_price\n",
    "    \n",
    "    def get_open_price(self, symbol):\n",
    "        return self.__recent_ticks__[symbol].open_price\n",
    "    \n",
    "    def get_timestamp(self, symbol):\n",
    "        return self.__recent_ticks__[symbol].timestamp"
   ]
  },
  {
   "cell_type": "markdown",
   "metadata": {},
   "source": [
    "### The MarketDataSource class"
   ]
  },
  {
   "cell_type": "code",
   "execution_count": null,
   "metadata": {},
   "outputs": [],
   "source": [
    "import pandas.io.data as web\n",
    "\"\"\" Download prices from an external data source \"\"\"\n",
    "class MarketDataSource:\n",
    "    def __init__(self):\n",
    "        self.event_tick = None\n",
    "        self.ticker, self.source = None, None \n",
    "        self.start, self.end = None, None \n",
    "        self.md = MarketData()\n",
    "        \n",
    "    def start_market_simulation(self):\n",
    "        data = web.DataReader(self.ticker, self.source,\n",
    "        self.start, self.end)\n",
    "        \n",
    "        for time, row in data.iterrows(): \n",
    "            self.md.add_last_price(time, self.ticker,\n",
    "                                   row[\"Close\"], row[\"Volume\"]) \n",
    "            self.md.add_open_price(time, self.ticker, row[\"Open\"])\n",
    "            \n",
    "            if not self.event_tick is None: \n",
    "                self.event_tick(self.md)"
   ]
  },
  {
   "cell_type": "markdown",
   "metadata": {},
   "source": [
    "### The Order class"
   ]
  },
  {
   "cell_type": "code",
   "execution_count": null,
   "metadata": {},
   "outputs": [],
   "source": [
    "class Order:\n",
    "    def __init__(self, timestamp, symbol, qty, is_buy,is_market_order, price=0): \n",
    "        self.timestamp = timestamp\n",
    "        self.symbol = symbol\n",
    "        self.qty = qty\n",
    "        self.price = price\n",
    "        self.is_buy = is_buy \n",
    "        self.is_market_order = is_market_order \n",
    "        self.is_filled = False \n",
    "        self.filled_price = 0\n",
    "        self.filled_time = None \n",
    "        self.filled_qty = 0"
   ]
  },
  {
   "cell_type": "markdown",
   "metadata": {},
   "source": [
    "### The Position class"
   ]
  },
  {
   "cell_type": "code",
   "execution_count": null,
   "metadata": {},
   "outputs": [],
   "source": [
    "class Position:\n",
    "    def __init__(self):\n",
    "        self.symbol = None\n",
    "        self.buys, self.sells, self.net = 0, 0, 0 \n",
    "        self.realized_pnl = 0\n",
    "        self.unrealized_pnl = 0 \n",
    "        self.position_value = 0\n",
    "    def event_fill(self, timestamp, is_buy, qty, price): \n",
    "        if is_buy:\n",
    "            self.buys += qty \n",
    "        else:\n",
    "            self.sells += qty\n",
    "            self.net = self.buys - self.sells\n",
    "            changed_value = qty * price * (-1 if is_buy else 1) \n",
    "            self.position_value += changed_value\n",
    "        if self.net == 0:\n",
    "            self.realized_pnl = self.position_value\n",
    "    def update_unrealized_pnl(self, price): \n",
    "        if self.net == 0:\n",
    "            self.unrealized_pnl = 0 \n",
    "        else:\n",
    "            self.unrealized_pnl = price * self.net + self.position_value\n",
    "        return self.unrealized_pnl\n"
   ]
  },
  {
   "cell_type": "markdown",
   "metadata": {},
   "source": [
    "### The Strategy class"
   ]
  },
  {
   "cell_type": "code",
   "execution_count": null,
   "metadata": {},
   "outputs": [],
   "source": [
    "\"\"\" Base strategy for implementation \"\"\"\n",
    "class Strategy:\n",
    "    def __init__(self): \n",
    "        self.event_sendorder = None\n",
    "    def event_tick(self, market_data): \n",
    "        pass\n",
    "    def event_order(self, order): \n",
    "        pass\n",
    "    def event_position(self, positions): \n",
    "        pass\n",
    "    def send_market_order(self, symbol, qty, is_buy, timestamp): \n",
    "        if not self.event_sendorder is None:\n",
    "            order = Order(timestamp, symbol, qty, is_buy, True) \n",
    "            self.event_sendorder(order)"
   ]
  },
  {
   "cell_type": "markdown",
   "metadata": {},
   "source": [
    "### The MeanRevertingStrategy class"
   ]
  },
  {
   "cell_type": "markdown",
   "metadata": {},
   "source": [
    "$$Z − score = \\frac{x − μ}{σ}$$"
   ]
  },
  {
   "cell_type": "code",
   "execution_count": null,
   "metadata": {},
   "outputs": [],
   "source": [
    "\"\"\"\n",
    "Implementation of a mean-reverting strategy based on the Strategy class\n",
    "\"\"\"\n",
    "import pandas as pd\n",
    "class MeanRevertingStrategy(Strategy): \n",
    "    def __init__(self, symbol,lookback_intervals=20, buy_threshold=-1.5, sell_threshold=1.5):\n",
    "        Strategy.__init__(self)\n",
    "        self.symbol = symbol\n",
    "        self.lookback_intervals = lookback_intervals \n",
    "        self.buy_threshold = buy_threshold \n",
    "        self.sell_threshold = sell_threshold \n",
    "        self.prices = pd.DataFrame()\n",
    "        self.is_long, self.is_short = False, False\n",
    "        \n",
    "    def event_position(self, positions): \n",
    "        if self.symbol in positions:\n",
    "            position = positions[self.symbol] \n",
    "            self.is_long = True if position.net > 0 else False \n",
    "            self.is_short = True if position.net < 0 else False\n",
    " \n",
    "    def event_tick(self, market_data): \n",
    "        self.store_prices(market_data)\n",
    "        if len(self.prices) < self.lookback_intervals: \n",
    "            return\n",
    "        signal_value = self.calculate_z_score()\n",
    "        timestamp = market_data.get_timestamp(self.symbol)\n",
    "        if signal_value < self.buy_threshold: \n",
    "            self.on_buy_signal(timestamp)\n",
    "        elif signal_value > self.sell_threshold: \n",
    "            self.on_sell_signal(timestamp)\n",
    "  \n",
    "    def store_prices(self, market_data):\n",
    "        timestamp = market_data.get_timestamp(slf.symbol) \n",
    "        self.prices.loc[timestamp, \"close\"] = market_data.get_last_price(self.symbol) \n",
    "        self.prices.loc[timestamp, \"open\"] = market_data.get_open_price(self.symbol)\n",
    "  \n",
    "    def calculate_z_score(self):\n",
    "        self.prices = self.prices[-self.lookback_intervals:] \n",
    "        returns = self.prices[\"close\"].pct_change().dropna() \n",
    "        z_score = ((returns-returns.mean())/returns.std())[-1] \n",
    "        return z_score\n",
    "\n",
    "    def on_buy_signal(self, timestamp): \n",
    "        if not self.is_long:\n",
    "            self.send_market_order(self.symbol, 100, True, timestamp)\n",
    "\n",
    "    def on_sell_signal(self, timestamp): \n",
    "        if not self.is_short:\n",
    "            self.send_market_order(self.symbol, 100, False, timestamp)"
   ]
  },
  {
   "cell_type": "markdown",
   "metadata": {},
   "source": [
    "### The Backtester class"
   ]
  },
  {
   "cell_type": "code",
   "execution_count": null,
   "metadata": {},
   "outputs": [],
   "source": [
    "import datetime as dt\n",
    "import pandas as pd\n",
    "class Backtester:\n",
    "    def __init__(self, symbol, start_date, end_date,data_source=\"google\"): \n",
    "        self.target_symbol = symbol\n",
    "        self.data_source = data_source\n",
    "        self.start_dt = start_date\n",
    "        self.end_dt = end_date\n",
    "        self.strategy = None\n",
    "        self.unfilled_orders = []\n",
    "        self.positions = dict()\n",
    "        self.current_prices = None\n",
    "        self.rpnl, self.upnl = pd.DataFrame(), pd.DataFrame()\n",
    "\n",
    "    def get_timestamp(self):\n",
    "        return self.current_prices.get_timestamp(self.target_symbol)\n",
    "    \n",
    "    def get_trade_date(self):\n",
    "        timestamp = self.get_timestamp() \n",
    "        return timestamp.strftime(\"%Y-%m-%d\")\n",
    "    def update_filled_position(self, symbol, qty, is_buy, price, timestamp):\n",
    "        position = self.get_position(symbol) \n",
    "        position.event_fill(timestamp, is_buy, qty, price) \n",
    "        self.strategy.event_position(self.positions) \n",
    "        self.rpnl.loc[timestamp, \"rpnl\"] = position.realized_pnl\n",
    "        print(self.get_trade_date(), \"Filled:\", \n",
    "              \"BUY\" if is_buy else \"SELL\", qty, symbol, \"at\", price)\n",
    "        \n",
    "    def get_position(self, symbol):\n",
    "        if symbol not in self.positions:\n",
    "            position = Position() \n",
    "            position.symbol = symbol \n",
    "            self.positions[symbol] = position\n",
    "        return self.positions[symbol]\n",
    "              \n",
    "    def evthandler_order(self, order): \n",
    "        self.unfilled_orders.append(order)\n",
    "        print(self.get_trade_date(), \"Received order:\", \n",
    "              \"BUY\" if order.is_buy else \"SELL\", order.qty, order.symbol)\n",
    "              \n",
    "    def match_order_book(self, prices): \n",
    "        if len(self.unfilled_orders) > 0:\n",
    "            self.unfilled_orders = [order for order in self.unfilled_orders\n",
    "            if self.is_order_unmatched(order, prices)]\n",
    "              \n",
    "    def is_order_unmatched(self, order, prices): \n",
    "        symbol = order.symbol\n",
    "        timestamp = prices.get_timestamp(symbol)\n",
    "        if order.is_market_order and timestamp > order.timestamp: # Order is matched and filled.\n",
    "            order.is_filled = True\n",
    "            open_price = prices.get_open_price(symbol) \n",
    "            order.filled_timestamp = timestamp\n",
    "            order.filled_price = open_price \n",
    "            self.update_filled_position(symbol,order.qty, order.is_buy, \n",
    "                                        open_price, timestamp)\n",
    "            self.strategy.event_order(order) \n",
    "            return False\n",
    "        return True\n",
    "              \n",
    "    def print_position_status(self, symbol, prices): \n",
    "        if symbol in self.positions:\n",
    "            position = self.positions[symbol]\n",
    "            close_price = prices.get_last_price(symbol) \n",
    "            position.update_unrealized_pnl(close_price) \n",
    "            self.upnl.loc[self.get_timestamp(), \"upnl\"] = position.unrealized_pnl\n",
    "            print (self.get_trade_date(), \"Net:\", position.net, \n",
    "                   \"Value:\", position.position_value, \"UPnL:\", \n",
    "                   position.unrealized_pnl, \"RPnL:\", position.realized_pnl)\n",
    "              \n",
    "    def evthandler_tick(self, prices):\n",
    "        self.current_prices = prices \n",
    "        self.strategy.event_tick(prices) \n",
    "        self.match_order_book(prices) \n",
    "        self.print_position_status(self.target_symbol, prices)\n",
    "   \n",
    "    def start_backtest(self):\n",
    "        self.strategy = MeanRevertingStrategy(self.target_symbol) \n",
    "        self.strategy.event_sendorder = self.evthandler_order\n",
    "        mds = MarketDataSource()\n",
    "        mds.event_tick = self.evthandler_tick \n",
    "        mds.ticker = self.target_symbol\n",
    "        mds.source = self.data_source\n",
    "        mds.start, mds.end = self.start_dt, self.end_dt\n",
    "        print (\"Backtesting started...\")\n",
    "        mds.start_market_simulation()\n",
    "        print (\"Completed.\")\n"
   ]
  },
  {
   "cell_type": "markdown",
   "metadata": {},
   "source": [
    "#### Running our backtesting system"
   ]
  },
  {
   "cell_type": "code",
   "execution_count": null,
   "metadata": {},
   "outputs": [],
   "source": [
    "backtester = Backtester(\"AAPL\",dt.datetime(2014, 1, 1),dt.datetime(2014, 12, 31))\n",
    "backtester.start_backtest()"
   ]
  },
  {
   "cell_type": "code",
   "execution_count": null,
   "metadata": {},
   "outputs": [],
   "source": []
  }
 ],
 "metadata": {
  "kernelspec": {
   "display_name": "Python 3",
   "language": "python",
   "name": "python3"
  },
  "language_info": {
   "codemirror_mode": {
    "name": "ipython",
    "version": 3
   },
   "file_extension": ".py",
   "mimetype": "text/x-python",
   "name": "python",
   "nbconvert_exporter": "python",
   "pygments_lexer": "ipython3",
   "version": "3.7.4"
  }
 },
 "nbformat": 4,
 "nbformat_minor": 2
}
