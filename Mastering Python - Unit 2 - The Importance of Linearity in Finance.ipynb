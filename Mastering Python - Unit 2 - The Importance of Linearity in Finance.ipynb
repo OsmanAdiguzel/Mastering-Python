{
 "cells": [
  {
   "cell_type": "markdown",
   "metadata": {},
   "source": [
    "# 2. The Importance of Linearity in Finance"
   ]
  },
  {
   "cell_type": "markdown",
   "metadata": {},
   "source": [
    "$$N(x) = \\frac{1}{\\sqrt{2\\pi}}\\int_{-\\infty}^{x} e^{- \\frac{z^2}{2}}\\, dz$$\n"
   ]
  },
  {
   "cell_type": "markdown",
   "metadata": {},
   "source": [
    "### CAPM Expected Return with SML"
   ]
  },
  {
   "cell_type": "markdown",
   "metadata": {},
   "source": [
    "SML function :$$E(R)=R +β E(R )−R $$"
   ]
  },
  {
   "cell_type": "code",
   "execution_count": 1,
   "metadata": {},
   "outputs": [
    {
     "name": "stdout",
     "output_type": "stream",
     "text": [
      "0.5077431878770808 -0.008481900352462384\n"
     ]
    }
   ],
   "source": [
    "from scipy import stats\n",
    "stock_returns = [0.065, 0.0265, -0.0593, -0.001, 0.0346]\n",
    "mkt_returns = [0.055, -0.09, -0.041, 0.045, 0.022]\n",
    "beta, alpha, r_value, p_value, std_err =  stats.linregress(stock_returns, mkt_returns)\n",
    "print (beta, alpha)"
   ]
  },
  {
   "cell_type": "markdown",
   "metadata": {},
   "source": [
    "###  OLS Regression Model"
   ]
  },
  {
   "cell_type": "code",
   "execution_count": 4,
   "metadata": {},
   "outputs": [
    {
     "name": "stdout",
     "output_type": "stream",
     "text": [
      "                            OLS Regression Results                            \n",
      "==============================================================================\n",
      "Dep. Variable:                      y   R-squared:                       0.998\n",
      "Model:                            OLS   Adj. R-squared:                  0.987\n",
      "Method:                 Least Squares   F-statistic:                     88.66\n",
      "Date:                Fri, 17 Apr 2020   Prob (F-statistic):             0.0816\n",
      "Time:                        12:51:44   Log-Likelihood:                 31.272\n",
      "No. Observations:                   9   AIC:                            -46.54\n",
      "Df Residuals:                       1   BIC:                            -44.97\n",
      "Df Model:                           7                                         \n",
      "Covariance Type:            nonrobust                                         \n",
      "==============================================================================\n",
      "                 coef    std err          t      P>|t|      [0.025      0.975]\n",
      "------------------------------------------------------------------------------\n",
      "const          1.2552      0.084     14.893      0.043       0.184       2.326\n",
      "x1            -0.6726      0.086     -7.807      0.081      -1.767       0.422\n",
      "x2            -1.0675      0.069    -15.533      0.041      -1.941      -0.194\n",
      "x3             0.9667      0.075     12.887      0.049       0.014       1.920\n",
      "x4            -0.5373      0.059     -9.173      0.069      -1.282       0.207\n",
      "x5            -0.1235      0.071     -1.740      0.332      -1.025       0.778\n",
      "x6             0.1626      0.060      2.721      0.224      -0.597       0.922\n",
      "x7            -0.3511      0.034    -10.201      0.062      -0.788       0.086\n",
      "==============================================================================\n",
      "Omnibus:                        0.602   Durbin-Watson:                   3.094\n",
      "Prob(Omnibus):                  0.740   Jarque-Bera (JB):                0.555\n",
      "Skew:                           0.280   Prob(JB):                        0.758\n",
      "Kurtosis:                       1.920   Cond. No.                         29.2\n",
      "==============================================================================\n",
      "\n",
      "Warnings:\n",
      "[1] Standard Errors assume that the covariance matrix of the errors is correctly specified.\n"
     ]
    },
    {
     "name": "stderr",
     "output_type": "stream",
     "text": [
      "/Applications/anaconda3/lib/python3.7/site-packages/scipy/stats/stats.py:1450: UserWarning: kurtosistest only valid for n>=20 ... continuing anyway, n=9\n",
      "  \"anyway, n=%i\" % int(n))\n"
     ]
    }
   ],
   "source": [
    "import numpy as np\n",
    "import statsmodels.api as sm\n",
    "# Generate some sample data\n",
    "num_periods = 9\n",
    "all_values  = np.array([np.random.random(8)\n",
    "                           for i in range(num_periods)])\n",
    "# Filter the data\n",
    "y_values = all_values[:, 0] # First column values as Y \n",
    "x_values = all_values[:, 1:] # All other values as X\n",
    "x_values = sm.add_constant(x_values) # Include the intercept \n",
    "results  = sm.OLS(y_values, x_values).fit() # Regress andfit the model\n",
    "print (results.summary())"
   ]
  },
  {
   "cell_type": "code",
   "execution_count": 5,
   "metadata": {},
   "outputs": [
    {
     "name": "stdout",
     "output_type": "stream",
     "text": [
      "[ 1.25521363 -0.67256257 -1.06754757  0.96674982 -0.53727054 -0.12350831\n",
      "  0.16264335 -0.35107298]\n"
     ]
    }
   ],
   "source": [
    "print (results.params)"
   ]
  },
  {
   "cell_type": "markdown",
   "metadata": {},
   "source": [
    "### Linear Optimization"
   ]
  },
  {
   "cell_type": "code",
   "execution_count": 8,
   "metadata": {},
   "outputs": [
    {
     "name": "stdout",
     "output_type": "stream",
     "text": [
      "Maximization Results:\n",
      "x = 20.0\n",
      "y = 60.0\n"
     ]
    }
   ],
   "source": [
    "import pulp\n",
    "x = pulp.LpVariable(\"x\", lowBound=0)  # x ≥ 0, y ≥ 0\n",
    "y = pulp.LpVariable(\"y\", lowBound=0)  # x ≥ 0, y ≥ 0\n",
    "problem = pulp.LpProblem(\"A simple maximization objective\", pulp.LpMaximize)\n",
    "problem += 3*x + 2*y, \"The objective function\" # Maximize: f(x,y) = 3x+2y\n",
    "problem += 2*x + y <= 100, \"1st constraint\" # 2x + y ≤ 100\n",
    "problem += x + y <= 80, \"2nd constraint\"  # x + y ≤ 80\n",
    "problem += x <= 40, \"3rd constraint\"  # x ≤ 40\n",
    "problem.solve()\n",
    "\n",
    "print (\"Maximization Results:\")\n",
    "for variable in problem.variables():\n",
    "    print (variable.name, \"=\", variable.varValue)"
   ]
  },
  {
   "cell_type": "markdown",
   "metadata": {},
   "source": [
    "### Integer Programming"
   ]
  },
  {
   "cell_type": "markdown",
   "metadata": {},
   "source": [
    "Suppose we must go for 150 contracts in a particular over-the-counter exotic security from three dealers. Dealer X quoted $500 per contract plus handling\n",
    "fees of $4,000, regardless of the number of contracts sold. Dealer Y charges $450 per contract plus a transaction fee of $2,000. Dealer Z charges $450 per contract plus a fee of $6,000. Dealer X will sell at most 100 contracts, dealer Y at most 90, and dealer Z at most 70. The minimum transaction volume from any dealer is 30 contracts if any are transacted with that dealer. How should we minimize the cost of purchasing 150 contracts?"
   ]
  },
  {
   "cell_type": "code",
   "execution_count": 10,
   "metadata": {},
   "outputs": [],
   "source": [
    "import pulp\n",
    "dealers = [\"X\", \"Y\", \"Z\"] \n",
    "variable_costs = {\"X\": 500, \"Y\": 350,\"Z\": 450} \n",
    "fixed_costs = {\"X\": 4000, \"Y\": 2000,\"Z\": 6000}\n",
    "# Define PuLP variables to solve\n",
    "quantities = pulp.LpVariable.dicts(\"quantity\",dealers,\n",
    "                                   lowBound=0, cat=pulp.LpInteger)\n",
    "is_orders = pulp.LpVariable.dicts(\"orders\", dealers,\n",
    "                                  cat=pulp.LpBinary)"
   ]
  },
  {
   "cell_type": "markdown",
   "metadata": {},
   "source": [
    "$$Minimize∑ IsOrder [variable cost × quantity + fixed cost ]$$"
   ]
  },
  {
   "cell_type": "markdown",
   "metadata": {},
   "source": [
    "$$Minimize∑ IsOrder [variable cost × quantity + fixed cost ]$$\n",
    "\n",
    "$$i=x$$\n",
    "\n",
    "$$IsOrder = i$$\n",
    "\n",
    "$$ 1, if buying from dealer i $$\n",
    "$$0,if not buying from dealer i$$\n",
    "\n",
    "$$30≤quantityx ≤100$$\n",
    "\n",
    "$$30 ≤ quantityy ≤ 90$$\n",
    "\n",
    "$$30≤quantityz ≤70$$\n",
    "\n",
    "\n",
    "$$∑i=z quantity i =150$$\n",
    "$$i=x$$"
   ]
  },
  {
   "cell_type": "code",
   "execution_count": 27,
   "metadata": {},
   "outputs": [
    {
     "data": {
      "text/plain": [
       "'\\n   This is an example of implementing an integer programming model with\\nbinary\\nvariables\\nthe wrong way.\\n\\n# Initialize the model with constraints\\nmodel = pulp.LpProblem(\"A cost minimization problem\", pulp.LpMinimize)\\nmodel += sum([(variable_costs[i] * quantities[i] +fixed_costs[i])*\\n              is_orders[i] for i in dealers]) #\"Minimize portfolio cost\"\\nmodel += sum([quantities[i] for i in dealers]) == 150 # \"Total contracts required\"\\nmodel += 30 <= quantities[\"X\"] <= 100, \"Boundary of total volume of X\"\\nmodel += 30 <= quantities[\"Y\"] <= 90, \"Boundary of total volume of Y\"\\nmodel += 30 <= quantities[\"Z\"] <= 70, \"Boundary of total volume of Z\"\\nmodel.solve()\\n'"
      ]
     },
     "execution_count": 27,
     "metadata": {},
     "output_type": "execute_result"
    }
   ],
   "source": [
    "\"\"\"\n",
    "   This is an example of implementing an integer programming model with\n",
    "binary\n",
    "variables\n",
    "the wrong way.\n",
    "\"\"\"\n",
    "# Initialize the model with constraints\n",
    "model = pulp.LpProblem(\"A cost minimization problem\", pulp.LpMinimize)\n",
    "model += sum([(variable_costs[i] * quantities[i] +fixed_costs[i])*\n",
    "              is_orders[i] for i in dealers]) #\"Minimize portfolio cost\"\n",
    "model += sum([quantities[i] for i in dealers]) == 150 # \"Total contracts required\"\n",
    "\n",
    "model += 30 <= quantities[\"X\"] <= 100, \"Boundary of total volume of X\"\n",
    "model += 30 <= quantities[\"Y\"] <= 90, \"Boundary of total volume of Y\"\n",
    "model += 30 <= quantities[\"Z\"] <= 70, \"Boundary of total volume of Z\"\n",
    "model.solve()"
   ]
  },
  {
   "cell_type": "markdown",
   "metadata": {},
   "source": [
    "### A different approach with binary conditions"
   ]
  },
  {
   "cell_type": "markdown",
   "metadata": {},
   "source": [
    "$$Minimize∑variable cost × quantity + fixed cost × IsOrder$$\n",
    "$$i=x$$\n",
    "\n",
    "Comparing with the previous objective equation, we would obtain the same fixed cost values. However, the unknown variable quantityi remains in the first term of the equation. Hence, the variable quantityi is required to be solved as a function of\n",
    "such that the constraints are stated as follows:\n",
    "\n",
    "$$IsOrder×30≥quantity ≤IsOrder×100 ixi$$\n",
    "\n",
    "$$IsOrder×30≤quantity ≤IsOrder×90 iyi$$\n",
    "\n",
    "$$IsOrder×30≤quantity ≤IsOrder×70 izi$$\n"
   ]
  },
  {
   "cell_type": "code",
   "execution_count": 31,
   "metadata": {},
   "outputs": [
    {
     "name": "stdout",
     "output_type": "stream",
     "text": [
      "Minimization Results:\n",
      "orders_X = 0.0\n",
      "orders_Y = 1.0\n",
      "orders_Z = 1.0\n",
      "quantity_X = 0.0\n",
      "quantity_Y = 90.0\n",
      "quantity_Z = 60.0\n",
      "Total cost: 66500.0\n"
     ]
    }
   ],
   "source": [
    "\"\"\"\n",
    "This is an example of implementing an IP model with binary variables the correct way.\n",
    "\"\"\"\n",
    "# Initialize the model with constraints\n",
    "model = pulp.LpProblem(\"A cost minimization problem\", pulp.LpMinimize)\n",
    "model += sum([variable_costs[i]*quantities[i] + fixed_costs[i]*\n",
    "              is_orders[i] for i in dealers]) # \"Minimize portfolio cost\"\n",
    "model +=sum([quantities[i] for i in dealers]) == 150 # \"Total contracts required\"\n",
    "model +=is_orders[\"X\"]*30 <= quantities[\"X\"] <= is_orders[\"X\"]*100 # \"Boundary of total volume of X\"\n",
    "model +=is_orders[\"Y\"]*30 <= quantities[\"Y\"] <= is_orders[\"Y\"]*90 # \"Boundary of total volume of Y\"\n",
    "model +=is_orders[\"Z\"]*30 <= quantities[\"Z\"] <= is_orders[\"Z\"]*70 # \"Boundary of total volume of Z\"\n",
    "model.solve()\n",
    "print (\"Minimization Results:\")\n",
    "for variable in model.variables():\n",
    "    print (variable, \"=\", variable.varValue)\n",
    "print (\"Total cost: %s\" % pulp.value(model.objective))"
   ]
  },
  {
   "cell_type": "markdown",
   "metadata": {},
   "source": [
    "### Solving linear equations using matrices"
   ]
  },
  {
   "cell_type": "markdown",
   "metadata": {},
   "source": [
    "Suppose we would like to build a portfolio consisting of 3 securities, a, b and c. The allocation of the portfolio must meet certain constraints: it must consist of 6 units of a long position in security a. With every 2 units of security a, 1 unit of security b, and 1 unit of security c invested, the net position must be 4 units long. With every 1 unit of security a, 3 units of security b, and 2 units of security c invested, the net position must be long 5 units."
   ]
  },
  {
   "cell_type": "markdown",
   "metadata": {},
   "source": [
    "To find out the number of securities to invest in, we can frame the problem mathematically as follows:\n",
    "$$2a + b + c = 4$$ \n",
    "$$a + 3b + 2c = 5$$ \n",
    "$$a=6$$\n",
    "\n",
    "With all of the coefficients visible, the equations are as follows:\n",
    "$$2 a + 1b + 1c = 4$$\n",
    "$$1a + 3b + 2c = 5$$\n",
    "$$1a + 0b + 0c = 6$$\n",
    "\n",
    "Taking the coefficients of the equations and representing them in a matrix form:\n",
    "$$A=\\begin{bmatrix} 1 & 2 & 1 \\\\ 3 & 0 & 1 \\\\ 0 & 2 & 4 \\end{bmatrix},x=\\begin{bmatrix} a \\\\ b \\\\ c \\end{bmatrix},B=\\begin{bmatrix} 4 \\\\ 5 \\\\ 6 \\end{bmatrix}$$\n",
    "\n",
    "The linear equations can now be stated as follows:\n",
    "$$Ax = B$$\n",
    "To solve for the vector x that contains the number of securities to invest in, the\n",
    "inverse of matrix A is taken and the equation is written as follows: $$x = A^-1B$$"
   ]
  },
  {
   "cell_type": "code",
   "execution_count": 36,
   "metadata": {},
   "outputs": [
    {
     "name": "stdout",
     "output_type": "stream",
     "text": [
      "[  6.  15. -23.]\n"
     ]
    }
   ],
   "source": [
    "\"\"\" Linear algebra with NumPy matrices \"\"\"\n",
    "import numpy as np\n",
    "A = np.array([[2, 1, 1], [1, 3, 2], [1, 0, 0]]) \n",
    "B = np.array([4, 5, 6])\n",
    "print (np.linalg.solve(A, B ))"
   ]
  },
  {
   "cell_type": "markdown",
   "metadata": {},
   "source": [
    "### The LU decomposition"
   ]
  },
  {
   "cell_type": "markdown",
   "metadata": {},
   "source": [
    "The LU decomposition, or also known as lower upper factorization, is one of the methods of solving square systems of linear equations.\n",
    "Product of two matrices: a lower triangular matrix L and an upper triangular matrix U."
   ]
  },
  {
   "cell_type": "markdown",
   "metadata": {},
   "source": [
    "$$A = LU$$"
   ]
  },
  {
   "cell_type": "markdown",
   "metadata": {},
   "source": [
    "$$\\begin{bmatrix} a & b & c \\\\ d & e & f \\\\ g & h & i \\end{bmatrix}=\n",
    "\\begin{bmatrix} l_{11} & 0 & 0 \\\\ l_{21} & l_{22} & 0 \\\\ l_{31} & l_{32} & l_{33} \\end{bmatrix}*\n",
    "\\begin{bmatrix} u_{11} & u_{12} & u_{13} \\\\ 0 & u_{22} & u_{23} \\\\ 0 & 0 & u_{33} \\end{bmatrix}\n",
    "$$"
   ]
  },
  {
   "cell_type": "code",
   "execution_count": 38,
   "metadata": {},
   "outputs": [
    {
     "name": "stdout",
     "output_type": "stream",
     "text": [
      "[  6.  15. -23.]\n"
     ]
    }
   ],
   "source": [
    "\"\"\" LU decomposition with SciPy \"\"\" \n",
    "import scipy.linalg as linalg \n",
    "import numpy as np\n",
    "A = np.array([[2., 1., 1.], [1., 3., 2.], [1., 0., 0.]])\n",
    "B = np.array([4., 5., 6.])\n",
    "LU = linalg.lu_factor(A)\n",
    "x = linalg.lu_solve(LU, B)\n",
    "print(x)"
   ]
  },
  {
   "cell_type": "code",
   "execution_count": 47,
   "metadata": {},
   "outputs": [
    {
     "name": "stdout",
     "output_type": "stream",
     "text": [
      "[[1. 0. 0.]\n",
      " [0. 1. 0.]\n",
      " [0. 0. 1.]]\n"
     ]
    }
   ],
   "source": [
    "P, L, U = linalg.lu(A)\n",
    "print(P)"
   ]
  },
  {
   "cell_type": "markdown",
   "metadata": {},
   "source": [
    "### The Cholesky decomposition"
   ]
  },
  {
   "cell_type": "markdown",
   "metadata": {},
   "source": [
    "the matrix A is decomposed as A = LL , L\n",
    "is a lower triangular matrix with real and positive numbers on the diagonals, and LT is the conjugate transpose of L.\n",
    "\n",
    "The equation is in the form of Ax = B, where A and B take the following values:"
   ]
  },
  {
   "cell_type": "markdown",
   "metadata": {},
   "source": [
    "$$\n",
    "A=\\begin{bmatrix} 10& -1& 2& 0 \\\\ -1& 11& -1& 3 \\\\ 2& -1& 10& -1 \\\\ 0& 3& -1& 8 \\end{bmatrix},\n",
    "x=\\begin{bmatrix} a \\\\ b \\\\ c \\\\ d \\end{bmatrix},\n",
    "B=\\begin{bmatrix} 6 \\\\ 25 \\\\ -11 \\\\ 15 \\end{bmatrix}\n",
    "$$"
   ]
  },
  {
   "cell_type": "code",
   "execution_count": 52,
   "metadata": {},
   "outputs": [
    {
     "name": "stdout",
     "output_type": "stream",
     "text": [
      "[[ 3.16227766  0.          0.          0.        ]\n",
      " [-0.31622777  3.3015148   0.          0.        ]\n",
      " [ 0.63245553 -0.24231301  3.08889696  0.        ]\n",
      " [ 0.          0.9086738  -0.25245792  2.6665665 ]]\n"
     ]
    }
   ],
   "source": [
    "\"\"\" Cholesky decomposition with NumPy \"\"\"\n",
    "import numpy as np\n",
    " \n",
    "A = np.array([[10., -1., 2., 0.],\n",
    "              [-1., 11., -1., 3.], \n",
    "              [2., -1., 10., -1.], \n",
    "              [0.0, 3., -1., 8.]]) \n",
    "\n",
    "B = np.array([6., 25., -11., 15.])\n",
    "\n",
    "L = np.linalg.cholesky(A)\n",
    "\n",
    "print (L)"
   ]
  },
  {
   "cell_type": "code",
   "execution_count": 55,
   "metadata": {},
   "outputs": [
    {
     "name": "stdout",
     "output_type": "stream",
     "text": [
      "[[10. -1.  2.  0.]\n",
      " [-1. 11. -1.  3.]\n",
      " [ 2. -1. 10. -1.]\n",
      " [ 0.  3. -1.  8.]]\n"
     ]
    }
   ],
   "source": [
    "\"\"\"\n",
    "We can use the definition of the Cholesky factorization by multiplying\n",
    "L with its conjugate transpose that will lead us back to the values of matrix A:\n",
    "\"\"\"\n",
    "print (np.dot(L, L.T.conj())) # A=L.L*"
   ]
  },
  {
   "cell_type": "code",
   "execution_count": 56,
   "metadata": {},
   "outputs": [
    {
     "name": "stdout",
     "output_type": "stream",
     "text": [
      "[ 1.  2. -1.  1.]\n"
     ]
    }
   ],
   "source": [
    "# Before solving for x, we need to solve for LT x as y.\n",
    "y = np.linalg.solve(L, B) # L.L*.x=B; When L*.x=y, then L.y=B\n",
    "\n",
    "# To solve for x, all we need to do is to solve again using \n",
    "#                                  the conjugate transpose of L and y:\n",
    "x = np.linalg.solve(L.T.conj(), y) # x=L*'.y\n",
    "\n",
    "print (x)"
   ]
  },
  {
   "cell_type": "code",
   "execution_count": 57,
   "metadata": {},
   "outputs": [
    {
     "name": "stdout",
     "output_type": "stream",
     "text": [
      "[[  6.]\n",
      " [ 25.]\n",
      " [-11.]\n",
      " [ 15.]]\n"
     ]
    }
   ],
   "source": [
    "print (np.mat(A) * np.mat(x).T) # B=Ax"
   ]
  },
  {
   "cell_type": "markdown",
   "metadata": {},
   "source": [
    "### The QR decomposition"
   ]
  },
  {
   "cell_type": "markdown",
   "metadata": {},
   "source": [
    "The QR algorithm is commonly used to solve the linear least squares problem.\n",
    "\n",
    "An orthogonal matrix exhibits the following properties:\n",
    "• It is a square matrix\n",
    "• Multiplying an orthogonal matrix by its transpose returns the identity matrix:\n",
    "$$QQT =QTQ=1$$\n",
    "\n",
    "• The inverse of an orthogonal matrix equals its transpose:\n",
    "$$QT =Q−1$$\n"
   ]
  },
  {
   "cell_type": "markdown",
   "metadata": {},
   "source": [
    "**An identity matrix is also a square matrix with its main diagonal containing ones and zeros elsewhere.**"
   ]
  },
  {
   "cell_type": "markdown",
   "metadata": {},
   "source": [
    "We can now restate the problem Ax = B as follows: \n",
    "\n",
    "$$QRx = B$$\n",
    "\n",
    "$$Rx = Q−1B or Rx = QT B$$"
   ]
  },
  {
   "cell_type": "code",
   "execution_count": 63,
   "metadata": {},
   "outputs": [
    {
     "name": "stdout",
     "output_type": "stream",
     "text": [
      "[  6.  15. -23.]\n"
     ]
    }
   ],
   "source": [
    "\"\"\" QR decomposition with scipy \"\"\" \n",
    "import scipy.linalg as linalg \n",
    "import numpy as np\n",
    "A = np.array([ [2., 1., 1.], [1., 3., 2.], [1., 0., 0]])\n",
    "B = np.array([4., 5., 6.])\n",
    "Q, R = linalg.qr(A) # QR decomposition \n",
    "y = np.dot(Q.T, B) # Let y=Q'.B\n",
    "x = linalg.solve(R, y) # Solve Rx=y\n",
    "print(x)"
   ]
  },
  {
   "cell_type": "markdown",
   "metadata": {},
   "source": [
    "### The Jacobi method"
   ]
  },
  {
   "cell_type": "markdown",
   "metadata": {},
   "source": [
    "$$\n",
    "A=\\begin{bmatrix} a& b& c& d \\\\ e& f& g& h \\\\ i& j& k& l \\\\ m& n& o& p \\end{bmatrix}=\n",
    "\\begin{bmatrix} a& 0& 0& 0 \\\\ 0& f& 0& 0 \\\\ 0& 0& k& 0 \\\\ 0& 0& 0& p \\end{bmatrix}*\n",
    "\\begin{bmatrix} 0& b& c& d \\\\ e& 0& g& h \\\\ i& j& 0& l \\\\ m& n& o& 0 \\end{bmatrix}\n",
    "$$"
   ]
  },
  {
   "cell_type": "markdown",
   "metadata": {},
   "source": [
    "The solution is then obtained iteratively as follows:\n",
    "    \n",
    "$$Ax = B$$\n",
    "\n",
    "$$(D + R)x = B$$\n",
    "\n",
    "$$Dx = B − Rx$$\n",
    "\n",
    "$$x_{n+1} = D^1(B−Rx_n)$$"
   ]
  },
  {
   "cell_type": "code",
   "execution_count": 73,
   "metadata": {},
   "outputs": [
    {
     "name": "stdout",
     "output_type": "stream",
     "text": [
      "x = [ 1.  2. -1.  1.]\n"
     ]
    }
   ],
   "source": [
    "\"\"\" Solve Ax=B with the Jacobi method \"\"\" \n",
    "import numpy as np\n",
    "\n",
    "def jacobi(A, B, n, tol=1e-10):\n",
    "# Initializes x with zeroes with same shape and type as B \n",
    "    x = np.zeros_like(B)\n",
    "    for it_count in range(n):\n",
    "        x_new = np.zeros_like(x) \n",
    "        for i in range(A.shape[0]):\n",
    "            s1 = np.dot(A[i, :i], x[:i])\n",
    "            s2 = np.dot(A[i, i + 1:], x[i + 1:]) \n",
    "            x_new[i] = (B[i] - s1 - s2) / A[i, i]\n",
    "        if np.allclose(x, x_new, tol): \n",
    "            break\n",
    "        x = x_new \n",
    "    return x\n",
    "\n",
    "# We will use 25 iterations in our jacobi function to find the values of x.\n",
    "\n",
    "A = np.array([[10., -1., 2., 0.], \n",
    "              [-1., 11., -1., 3.], \n",
    "              [2., -1., 10., -1.], \n",
    "              [0.0, 3., -1., 8.]]) \n",
    "B = np.array([6., 25., -11., 15.])\n",
    "n = 25\n",
    "\n",
    "x = jacobi(A, B, n)\n",
    "print(\"x =\", x)"
   ]
  },
  {
   "cell_type": "markdown",
   "metadata": {},
   "source": [
    "### The Gauss-Seidel method"
   ]
  },
  {
   "cell_type": "markdown",
   "metadata": {},
   "source": [
    "$$\n",
    "A=\\begin{bmatrix} a& b& c& d \\\\ e& f& g& h \\\\ i& j& k& l \\\\ m& n& o& p \\end{bmatrix}=\n",
    "\\begin{bmatrix} a& 0& 0& 0 \\\\ e& f& 0& 0 \\\\ i& j& k& 0 \\\\ m& n& o& p \\end{bmatrix}*\n",
    "\\begin{bmatrix} 0& b& c& d \\\\ 0& 0& g& h \\\\ 0& 0& 0& l \\\\ 0& 0& 0& 0 \\end{bmatrix}\n",
    "$$"
   ]
  },
  {
   "cell_type": "markdown",
   "metadata": {},
   "source": [
    "The solution is then obtained iteratively as follows:\n",
    "$$Ax = B$$\n",
    "\n",
    "$$(L +U )x = B$$\n",
    "\n",
    "$$Lx = B − Ux$$\n",
    "\n",
    "$$x_{n+1} =L−1(B−Ux_n)$$"
   ]
  },
  {
   "cell_type": "markdown",
   "metadata": {},
   "source": [
    "**The elements of xn can be overwritten in each iteration in order to compute xn+1.**"
   ]
  },
  {
   "cell_type": "code",
   "execution_count": 77,
   "metadata": {},
   "outputs": [
    {
     "name": "stdout",
     "output_type": "stream",
     "text": [
      "x = [ 1.  2. -1.  1.]\n"
     ]
    }
   ],
   "source": [
    "\"\"\" Solve Ax=B with the Gauss-Seidel method \"\"\" \n",
    "import numpy as np\n",
    "def gauss(A, B, n, tol=1e-10):\n",
    "    L = np.tril(A) # Returns the lower triangular matrix of A \n",
    "    U = A - L # Decompose A = L + U\n",
    "    L_inv = np.linalg.inv(L)\n",
    "    x = np.zeros_like(B)\n",
    "    for i in range(n):\n",
    "        Ux = np.dot(U, x)\n",
    "        x_new = np.dot(L_inv, B - Ux)\n",
    "        if np.allclose(x, x_new, tol): \n",
    "            break\n",
    "        x = x_new \n",
    "    return x\n",
    "\n",
    "A = np.array([[10., -1., 2., 0.], \n",
    "              [-1., 11., -1., 3.], \n",
    "              [2., -1., 10., -1.],\n",
    "              [0.0, 3., -1., 8.]]) \n",
    "B = np.array([6., 25., -11., 15.])\n",
    "n = 100\n",
    "x = gauss(A, B, n)\n",
    "\n",
    "print (\"x =\", x)"
   ]
  },
  {
   "cell_type": "code",
   "execution_count": null,
   "metadata": {},
   "outputs": [],
   "source": []
  }
 ],
 "metadata": {
  "kernelspec": {
   "display_name": "Python 3",
   "language": "python",
   "name": "python3"
  },
  "language_info": {
   "codemirror_mode": {
    "name": "ipython",
    "version": 3
   },
   "file_extension": ".py",
   "mimetype": "text/x-python",
   "name": "python",
   "nbconvert_exporter": "python",
   "pygments_lexer": "ipython3",
   "version": "3.7.4"
  }
 },
 "nbformat": 4,
 "nbformat_minor": 2
}
