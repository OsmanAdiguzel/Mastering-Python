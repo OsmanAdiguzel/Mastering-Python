{
 "cells": [
  {
   "cell_type": "markdown",
   "metadata": {},
   "source": [
    "# 3. Nonlinearity in Finance"
   ]
  },
  {
   "cell_type": "markdown",
   "metadata": {},
   "source": [
    "Practitioners in the financial industry use nonlinear models to forecast volatility, price derivatives, and compute Value at Risk (VAR)."
   ]
  },
  {
   "cell_type": "markdown",
   "metadata": {},
   "source": [
    "### The implied volatility model"
   ]
  },
  {
   "cell_type": "markdown",
   "metadata": {},
   "source": [
    "the strike price (K), time to expiry (T), risk-free rate (r), volatility of the underlying returns (σ ), current price of the underlying asset (S), and its yield (q). The mathematical formula for a call option C(S,t) is represented as follows:"
   ]
  },
  {
   "cell_type": "markdown",
   "metadata": {},
   "source": [
    "$$C(S,t)=Se^{−qT}N(d_1)−Ke^{−rT}N(d_2)$$"
   ]
  },
  {
   "cell_type": "markdown",
   "metadata": {},
   "source": [
    "$$d1 = \\frac{ln(S/K)+(r−q+σ^2 /2)*T}{σT^{1/2}}$$\n",
    "\n",
    "$$d2=d1−{σT^{1/2}}$$"
   ]
  },
  {
   "cell_type": "markdown",
   "metadata": {},
   "source": [
    "### The Markov regime-switching model"
   ]
  },
  {
   "cell_type": "markdown",
   "metadata": {},
   "source": [
    "Let's take an example of a Markov regime-switching model with m = 2 regimes:\n",
    "\n",
    "$$y  x_1+ε_t,when st = 1$$\n",
    "$$   x +ε ,when st = 2$$\n",
    "\n",
    "$$y_t = x_1D_t +x_2(1−D_t)+ε_t $$\n",
    "$$where D_t =1 when s_t =1,$$\n",
    "$$or D_t =0 when s_t =2$$"
   ]
  },
  {
   "cell_type": "markdown",
   "metadata": {},
   "source": [
    "The application of Markov switching models includes representing the real GDP growth rate and inflation rate dynamics. These models in turn drive the valuation models of interest-rate derivatives. The probability of switching from the previous state i to the current state j can be written as follows:\n",
    "\n",
    "$$P[s_t = j|s_{t−1} =i]$$"
   ]
  },
  {
   "cell_type": "markdown",
   "metadata": {},
   "source": [
    "### The threshold autoregressive model"
   ]
  },
  {
   "cell_type": "markdown",
   "metadata": {},
   "source": [
    "The SETAR (the self-exciting threshold autoregressive) model is self-exciting because switching between different regimes depends on the past values of its own time series:"
   ]
  },
  {
   "cell_type": "markdown",
   "metadata": {},
   "source": [
    "$$y a_1+b_1y_{t-d} +ε_t,  if y_{t−d} ≤c$$\n",
    "$$  a_2 +b_2y_{t−d} +ε_t,  if y_{t−d} >c$$"
   ]
  },
  {
   "cell_type": "markdown",
   "metadata": {},
   "source": [
    "Using dummy variables, the SETAR model can also be represented as follows:\n",
    "\n",
    "$$y_t=(a_1+b_1y_{t-d} )D_t+(a_2+b_2y_{t-d} )(1−D_1)+ε_t$$\n",
    "\n",
    "$$where D_t =1 when y_{t−d} ≤c$$\n",
    "\n",
    "$$or D_t =0  when y_{t−d} >c$$ "
   ]
  },
  {
   "cell_type": "markdown",
   "metadata": {},
   "source": [
    "### Smooth transition models"
   ]
  },
  {
   "cell_type": "markdown",
   "metadata": {},
   "source": [
    "Abrupt regime changes in the threshold models appear to be unrealistic against real-world dynamics. The SETAR model becomes a logistic smooth transition threshold autoregressive (LSTAR) model with the logistic function G(yt−1;γ,c):\n",
    "\n",
    "$$G(y_{t−1};γ,c) = \\frac{1}{ 1+e^{−γ(y_{t−d} −c)}}$$"
   ]
  },
  {
   "cell_type": "markdown",
   "metadata": {},
   "source": [
    "The SETAR model now becomes a LSTAR model, as shown in the following equation:\n",
    "\n",
    "$$y=(a_1+b_1y_{t-d} )(1−G(y_{t-1} ;γ,c))+(a_2+b_2y_{t-d} )G(y_{t-1} ;γ,c)+ε_t$$\n",
    "\n",
    "The parameter γ controls the smooth transition from one regime to another. For large values of γ , the transition is the fastest, as yt−d approaches the threshold variable c. When γ = 0, the LSTAR model is equivalent to a simple AR(1) one-regime model."
   ]
  },
  {
   "cell_type": "markdown",
   "metadata": {},
   "source": [
    "### An introduction to root-finding"
   ]
  },
  {
   "cell_type": "code",
   "execution_count": 1,
   "metadata": {},
   "outputs": [],
   "source": [
    "'''\n",
    "   Python code:\n",
    "   Incremental search method\n",
    "'''\n",
    "\"\"\" An incremental search algorithm \"\"\" \n",
    "import numpy as np\n",
    "def incremental_search(f, a, b, dx): \n",
    "    \"\"\"\n",
    "    :param f: The function to solve\n",
    "    :param a: The left boundary x-axis value \n",
    "    :param b: The right boundary x-axis value\n",
    "    :param dx: The incremental value in searching :return: The x-axis value of the root,\n",
    "            number of iterations used\n",
    "    \"\"\"\n",
    "    fa = f(a) \n",
    "    c = a + dx \n",
    "    fc = f(c) \n",
    "    n= 1\n",
    "    while np.sign(fa) == np.sign(fc): \n",
    "        if a >= b:\n",
    "            return a - dx, n\n",
    "        a= c\n",
    "        fa = fc\n",
    "        c = a + dx \n",
    "        fc = f(c) \n",
    "        n += 1\n",
    "        \n",
    "    if fa == 0: \n",
    "        return a,n\n",
    "    elif fc == 0: \n",
    "        return c,n\n",
    "    else:\n",
    "        return (a + c)/2., n"
   ]
  },
  {
   "cell_type": "markdown",
   "metadata": {},
   "source": [
    "We will use the equation that has an analytic solution of y = x3 + 2x2 − 5 to demonstrate and measure our root-finder, where x is bounded between -5 and 5.\n",
    "A small dx value of 0.001 is given, which also acts as a precision tool. Smaller values of dx produce better precision but also require more search iterations:"
   ]
  },
  {
   "cell_type": "code",
   "execution_count": 2,
   "metadata": {},
   "outputs": [
    {
     "name": "stdout",
     "output_type": "stream",
     "text": [
      "Root is: 1.2414999999999783\n",
      "Iterations:  6242\n"
     ]
    }
   ],
   "source": [
    "\"\"\"\n",
    "The keyword 'lambda' creates an anonymous function\n",
    "with input argument x\n",
    "\"\"\"\n",
    "y = lambda x: x**3 + 2.0*x**2 - 5.\n",
    "root, iterations = incremental_search (y, -5., 5., 0.001) \n",
    "print (\"Root is:\", root)\n",
    "print (\"Iterations: \", iterations)"
   ]
  },
  {
   "cell_type": "markdown",
   "metadata": {},
   "source": [
    "### The bisection method"
   ]
  },
  {
   "cell_type": "markdown",
   "metadata": {},
   "source": [
    "The bisection method is considered the simplest one-dimensional root-finding algorithm."
   ]
  },
  {
   "cell_type": "code",
   "execution_count": 4,
   "metadata": {},
   "outputs": [
    {
     "name": "stdout",
     "output_type": "stream",
     "text": [
      "Root is: 1.241903305053711\n",
      "Iterations:  20\n"
     ]
    }
   ],
   "source": [
    "\"\"\" The bisection method \"\"\"\n",
    "def bisection(f, a, b, tol=0.1, maxiter=10): \n",
    "    \"\"\"\n",
    "    :param f: The function to solve\n",
    "    :param a: The x-axis value where f(a)<0 \n",
    "    :param b: The x-axis value where f(b)>0 \n",
    "    :param tol: The precision of the solution\n",
    "    :param maxiter: Maximum number of iterations \n",
    "    :return: The x-axis value of the root,\n",
    "                   number of iterations used\n",
    "    \"\"\"\n",
    "    \n",
    "    c = (a+b)*0.5 # Declare c as the midpoint ab \n",
    "    n = 1 # Start with 1 iteration\n",
    "    while n <= maxiter:\n",
    "        c = (a+b)*0.5\n",
    "        if f(c) == 0 or abs(a-b)*0.5 < tol:\n",
    "            # Root is found or is very close \n",
    "            return c, n\n",
    "        n += 1\n",
    "        if f(c) < 0:\n",
    "            a= c \n",
    "        else:\n",
    "            b= c\n",
    "    return c, n\n",
    "\n",
    "# y = x3 + 2x2 − 5\n",
    "y = lambda x: x**3 + 2*x**2 - 5\n",
    "\n",
    "# interval between -5 to 5 to an accuracy of 0.00001 with a maximum iteration of 100.\n",
    "root, iterations = bisection(y, -5, 5, 0.00001, 100)\n",
    "\n",
    "print (\"Root is:\", root)\n",
    "print (\"Iterations: \", iterations)"
   ]
  },
  {
   "cell_type": "markdown",
   "metadata": {},
   "source": [
    "### Newton's method"
   ]
  },
  {
   "cell_type": "markdown",
   "metadata": {},
   "source": [
    "The Newton-Raphson method, uses an iterative procedure to solve for a root using information about the derivative of a function. The derivative is treated as a linear problem to be solved. The first-order derivation\n",
    "f ′ of the function f represents the tangent line. The approximation to the next value of x, given as x1, is as follows:\n",
    "\n",
    "$$ x_1 = x - \\frac{f(x)}{f'(x)}$$\n",
    "\n",
    "Here, the tangent line intersects the x axis at x1, which produces y = 0. This also represents the first-order Taylor expansion about x1 such that that the new point x1 = x + ∆x solves the following equation:\n",
    "\n",
    "$$f (x_1 +∆x)=0$$"
   ]
  },
  {
   "cell_type": "markdown",
   "metadata": {},
   "source": [
    "**The drawback to Newton's method is that it does not guarantee global convergence to the solution. Such a situation arises when the function contains more than one root, or when the algorithm arrives at a local extremum and is unable to compute the next step.**"
   ]
  },
  {
   "cell_type": "code",
   "execution_count": 5,
   "metadata": {},
   "outputs": [
    {
     "name": "stdout",
     "output_type": "stream",
     "text": [
      "Root is: 1.241896563034502\n",
      "Iterations: 7\n"
     ]
    }
   ],
   "source": [
    "\"\"\" The Newton-Raphson method \"\"\"\n",
    "def newton(f, df, x, tol=0.001, maxiter=100): \n",
    "    \"\"\"\n",
    "    :param f: The function to solve\n",
    "    :param df: The derivative function of f \n",
    "    :param x: Initial guess value of x\n",
    "    :param tol: The precision of the solution \n",
    "    :param maxiter: Maximum number of iterations \n",
    "    :return: The x-axis value of the root, number of iterations used\n",
    "    \"\"\"\n",
    "    n = 1\n",
    "    while n <= maxiter:\n",
    "        x1 = x - f(x)/df(x)\n",
    "        if abs(x1 - x) < tol: # Root is very close\n",
    "            return x1, n \n",
    "        else:\n",
    "            x = x1 \n",
    "            n += 1\n",
    "    return None, n\n",
    "\n",
    "\n",
    "y = lambda x: x**3 + 2*x**2 - 5\n",
    "dy = lambda x: 3*x**2 + 4*x\n",
    "root, iterations = newton(y, dy, 5.0, 0.00001, 100)\n",
    "\n",
    "print (\"Root is:\", root)\n",
    "print (\"Iterations:\", iterations)"
   ]
  },
  {
   "cell_type": "markdown",
   "metadata": {},
   "source": [
    "*Beware of division by zero exceptions! Using values such as 5.0, instead of 5, lets Python recognize the variable as a float, avoids the problem of treating variables as integers in calculations, and gives us better precision.*"
   ]
  },
  {
   "cell_type": "markdown",
   "metadata": {},
   "source": [
    "### The secant method"
   ]
  },
  {
   "cell_type": "markdown",
   "metadata": {},
   "source": [
    " A secant line is a straight line that intersects two points of a curve. An initial guess of the two x axis values a and b is required to find f (a) and f (b). A secant line y is drawn from f (b)to f (a) and intersects at point c on the x axis such that:\n",
    " \n",
    " $$y= \\frac{f(b)−f(a)}{b−a}*(c−b)+f(b)$$\n",
    " \n",
    " The solution to c is therefore:\n",
    " \n",
    "$$c = b − f (b) * \\frac{b − a}{f (b)− f (a)}$$"
   ]
  },
  {
   "cell_type": "code",
   "execution_count": 6,
   "metadata": {},
   "outputs": [
    {
     "name": "stdout",
     "output_type": "stream",
     "text": [
      "Root is: 1.2418965622558549\n",
      "Iterations: 14\n"
     ]
    }
   ],
   "source": [
    "\"\"\" The secant root-finding method \"\"\"\n",
    "def secant(f, a, b, tol=0.001, maxiter=100): \n",
    "    \"\"\"\n",
    "    :param f: The function to solve\n",
    "    :param a: Initial x-axis guess value\n",
    "    :param b: Initial x-axis guess value, where b>a \n",
    "    :param tol: The precision of the solution \n",
    "    :param maxiter: Maximum number of iterations \n",
    "    :return: The x-axis value of the root,\n",
    "                       number of iterations used\n",
    "    \"\"\"\n",
    "    n= 1\n",
    "    while n <= maxiter:\n",
    "        c = b - f(b)*((b-a)/(f(b)-f(a))) \n",
    "        if abs(c-b) < tol:\n",
    "            return c, n\n",
    "        a= b\n",
    "        b= c\n",
    "        n += 1\n",
    "    return None, n\n",
    "\n",
    "y = lambda x: x**3 + 2*x**2 - 5\n",
    "root, iterations = secant(y, -5.0, 5.0, 0.00001, 100)\n",
    "\n",
    "print (\"Root is:\", root)\n",
    "print (\"Iterations:\", iterations)"
   ]
  },
  {
   "cell_type": "markdown",
   "metadata": {},
   "source": [
    "### Combining root-finding methods"
   ]
  },
  {
   "cell_type": "markdown",
   "metadata": {},
   "source": [
    "**Brent's method** or the **Wijngaarden-Dekker-Brent** method combines the bisection root-finding method, secant method, and inverse quadratic interpolation.\n",
    "\n",
    "Brent's method can also be found in the scipy.optimize.brentq function of SciPy.\n"
   ]
  },
  {
   "cell_type": "markdown",
   "metadata": {},
   "source": [
    "### Root-finding scalar functions"
   ]
  },
  {
   "cell_type": "code",
   "execution_count": 7,
   "metadata": {},
   "outputs": [
    {
     "name": "stdout",
     "output_type": "stream",
     "text": [
      "Bisection method: 1.241903305053711\n",
      "Newton's method: 1.2418965630344798\n",
      "Secant method: 1.2418965630344803\n",
      "Brent's method: 1.241896563034559\n"
     ]
    }
   ],
   "source": [
    "\"\"\"\n",
    "Documentation at http://docs.scipy.org/doc/scipy/reference/optimize.html \"\"\"\n",
    "import scipy.optimize as optimize\n",
    "y = lambda x: x**3 + 2.*x**2 - 5. \n",
    "dy = lambda x: 3.*x**2 + 4.*x\n",
    "# Call method: bisect(f, a, b[, args, xtol, rtol, maxiter, ...])\n",
    "print (\"Bisection method: %s\" % optimize.bisect(y, -5., 5., xtol=0.00001))\n",
    "# Call method: newton(func, x0[, fprime, args, tol, ...])\n",
    "print (\"Newton's method: %s\" % optimize.newton(y, 5., fprime=dy))\n",
    "# When fprime=None, then the secant method is used. \n",
    "print (\"Secant method: %s\" % optimize.newton(y, 5.))\n",
    "# Call method: brentq(f, a, b[, args, xtol, rtol, maxiter, ...]) \n",
    "print (\"Brent's method: %s\" % optimize.brentq(y, -5., 5.))"
   ]
  },
  {
   "cell_type": "raw",
   "metadata": {},
   "source": [
    "It should be noted that SciPy has a set of well-defined conditions for every implementation. For example, the function call of the bisection routine is given as follows:\n",
    "\n",
    "optimize.bisect(f, a, b,\n",
    "                args        = (),\n",
    "                xtol        = 1e-12, \n",
    "                rtol        = 4.4408920985006262e-16, \n",
    "                maxiter     = 100, \n",
    "                full_output = False, \n",
    "                disp        = True)"
   ]
  },
  {
   "cell_type": "markdown",
   "metadata": {},
   "source": [
    "### General nonlinear solvers"
   ]
  },
  {
   "cell_type": "markdown",
   "metadata": {},
   "source": [
    "The scipy.optimize module also contains multidimensional general solvers that we can harness to our advantage. The root and fsolve functions are some examples with the following function properties:"
   ]
  },
  {
   "cell_type": "code",
   "execution_count": 23,
   "metadata": {},
   "outputs": [],
   "source": [
    "import scipy.optimize as optimize\n",
    "\n",
    "y = lambda x: x**3 + 2.*x**2 - 5. \n",
    "dy = lambda x: 3.*x**2 + 4.*x"
   ]
  },
  {
   "cell_type": "code",
   "execution_count": 24,
   "metadata": {},
   "outputs": [
    {
     "name": "stdout",
     "output_type": "stream",
     "text": [
      "      x : [1.24189656]\n",
      "\n",
      "    fjac: array([[-1.]])\n",
      "     fun: array([3.55271368e-15])\n",
      " message: 'The solution converged.'\n",
      "    nfev: 12\n",
      "     qtf: array([-3.73605502e-09])\n",
      "       r: array([-9.59451815])\n",
      "  status: 1\n",
      " success: True\n",
      "       x: array([1.24189656])\n"
     ]
    }
   ],
   "source": [
    "print ('      x :',optimize.fsolve(y, 5., fprime=dy))\n",
    "print('')\n",
    "print (optimize.root(y, 5.))"
   ]
  },
  {
   "cell_type": "code",
   "execution_count": 25,
   "metadata": {},
   "outputs": [
    {
     "name": "stdout",
     "output_type": "stream",
     "text": [
      "      x : [-1.33306553]\n",
      "\n",
      "    fjac: array([[-1.]])\n",
      "     fun: array([-3.81481496])\n",
      " message: 'The iteration is not making good progress, as measured by the \\n  improvement from the last ten iterations.'\n",
      "    nfev: 28\n",
      "     qtf: array([3.81481521])\n",
      "       r: array([-0.00461503])\n",
      "  status: 5\n",
      " success: False\n",
      "       x: array([-1.33306551])\n"
     ]
    },
    {
     "name": "stderr",
     "output_type": "stream",
     "text": [
      "/Applications/anaconda3/lib/python3.7/site-packages/scipy/optimize/minpack.py:162: RuntimeWarning: The iteration is not making good progress, as measured by the \n",
      "  improvement from the last ten iterations.\n",
      "  warnings.warn(msg, RuntimeWarning)\n"
     ]
    }
   ],
   "source": [
    "print ('      x :',optimize.fsolve(y, -5., fprime=dy))\n",
    "print('')\n",
    "print (optimize.root(y, -5.))"
   ]
  },
  {
   "cell_type": "code",
   "execution_count": null,
   "metadata": {},
   "outputs": [],
   "source": []
  }
 ],
 "metadata": {
  "kernelspec": {
   "display_name": "Python 3",
   "language": "python",
   "name": "python3"
  },
  "language_info": {
   "codemirror_mode": {
    "name": "ipython",
    "version": 3
   },
   "file_extension": ".py",
   "mimetype": "text/x-python",
   "name": "python",
   "nbconvert_exporter": "python",
   "pygments_lexer": "ipython3",
   "version": "3.7.4"
  }
 },
 "nbformat": 4,
 "nbformat_minor": 2
}
